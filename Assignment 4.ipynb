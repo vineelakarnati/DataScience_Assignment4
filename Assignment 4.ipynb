{
 "cells": [
  {
   "cell_type": "markdown",
   "metadata": {},
   "source": [
    "# Task 1"
   ]
  },
  {
   "cell_type": "code",
   "execution_count": 23,
   "metadata": {},
   "outputs": [
    {
     "name": "stdout",
     "output_type": "stream",
     "text": [
      "5.0 4.666666666666667 5.666666666666667 6.666666666666667 9.666666666666666 28.666666666666668 49.333333333333336 72.66666666666667 84.0 93.33333333333333 116.33333333333333\n"
     ]
    }
   ],
   "source": [
    "#1.Moving avg seq n-k+1 k=window size n=no:of elements\n",
    "import pandas as pd\n",
    "data=pd.DataFrame([3,5,7,2,8,10,11,65,72,81,99,100,150])\n",
    "n=data.size\n",
    "k=3\n",
    "def moving_avg(data,k):\n",
    "    print(*[(data[i:i+k].apply(sum)[0])/k for i in range((data.size)-k+1)])\n",
    "moving_avg(data,k)            "
   ]
  },
  {
   "cell_type": "markdown",
   "metadata": {},
   "source": [
    "# Task 2"
   ]
  },
  {
   "cell_type": "code",
   "execution_count": 24,
   "metadata": {},
   "outputs": [
    {
     "name": "stdout",
     "output_type": "stream",
     "text": [
      "   X\n",
      "0  7\n",
      "1  2\n",
      "2  0\n",
      "3  3\n",
      "4  4\n",
      "5  2\n",
      "6  5\n",
      "7  0\n",
      "8  3\n",
      "9  4\n"
     ]
    },
    {
     "data": {
      "text/plain": [
       "[0, 1, 0, 1, 2, 3, 4, 0, 1, 2]"
      ]
     },
     "execution_count": 24,
     "metadata": {},
     "output_type": "execute_result"
    }
   ],
   "source": [
    "#1.How-to-count-distance-to-the-previous-zero\n",
    "#For each value, count the difference back to the previous zero (or the start of the Series,\n",
    "#whichever is closer)\n",
    "import pandas as pd\n",
    "df = pd.DataFrame({'X': [7, 2, 0, 3, 4, 2, 5, 0, 3, 4]})\n",
    "print(df)\n",
    "def step_count():\n",
    "    i=-1\n",
    "    r=[]\n",
    "    for j in df['X'].tolist():\n",
    "        if j!=0:\n",
    "            i=i+1\n",
    "            r.append(i)\n",
    "        else:\n",
    "            i=0\n",
    "            r.append(i)\n",
    "    return r\n",
    "step_count()\n",
    "    "
   ]
  },
  {
   "cell_type": "code",
   "execution_count": 26,
   "metadata": {},
   "outputs": [
    {
     "data": {
      "text/plain": [
       "2015-01-01    0.375668\n",
       "2015-01-02    0.889545\n",
       "2015-01-05    0.358121\n",
       "2015-01-06    0.129811\n",
       "2015-01-07    0.653494\n",
       "2015-01-08    0.433049\n",
       "2015-01-09    0.761171\n",
       "2015-01-12    0.946655\n",
       "2015-01-13    0.872953\n",
       "2015-01-14    0.752737\n",
       "2015-01-15    0.917273\n",
       "2015-01-16    0.989346\n",
       "2015-01-19    0.650949\n",
       "2015-01-20    0.490677\n",
       "2015-01-21    0.727651\n",
       "2015-01-22    0.125075\n",
       "2015-01-23    0.352891\n",
       "2015-01-26    0.453042\n",
       "2015-01-27    0.099659\n",
       "2015-01-28    0.008750\n",
       "2015-01-29    0.820936\n",
       "2015-01-30    0.016706\n",
       "2015-02-02    0.842906\n",
       "2015-02-03    0.012630\n",
       "2015-02-04    0.278087\n",
       "2015-02-05    0.399188\n",
       "2015-02-06    0.054454\n",
       "2015-02-09    0.220676\n",
       "2015-02-10    0.327732\n",
       "2015-02-11    0.367722\n",
       "                ...   \n",
       "2015-11-20    0.262611\n",
       "2015-11-23    0.227921\n",
       "2015-11-24    0.565404\n",
       "2015-11-25    0.575835\n",
       "2015-11-26    0.713090\n",
       "2015-11-27    0.601693\n",
       "2015-11-30    0.066143\n",
       "2015-12-01    0.718062\n",
       "2015-12-02    0.151416\n",
       "2015-12-03    0.422130\n",
       "2015-12-04    0.873151\n",
       "2015-12-07    0.997008\n",
       "2015-12-08    0.053132\n",
       "2015-12-09    0.687502\n",
       "2015-12-10    0.806381\n",
       "2015-12-11    0.423312\n",
       "2015-12-14    0.499714\n",
       "2015-12-15    0.174133\n",
       "2015-12-16    0.226868\n",
       "2015-12-17    0.970128\n",
       "2015-12-18    0.956353\n",
       "2015-12-21    0.178283\n",
       "2015-12-22    0.755913\n",
       "2015-12-23    0.243353\n",
       "2015-12-24    0.383692\n",
       "2015-12-25    0.426972\n",
       "2015-12-28    0.094964\n",
       "2015-12-29    0.421044\n",
       "2015-12-30    0.246890\n",
       "2015-12-31    0.981376\n",
       "Freq: B, Length: 261, dtype: float64"
      ]
     },
     "execution_count": 26,
     "metadata": {},
     "output_type": "execute_result"
    }
   ],
   "source": [
    "#2.Create Date Time Index that contains each business day of 2015 and use it to index series of random numbers\n",
    "import numpy as np\n",
    "dti = pd.date_range(start='1/1/2015',end='31/12/2015',freq='B')\n",
    "dti.shape\n",
    "s = pd.Series(np.random.rand(len(dti)),index=dti)\n",
    "s\n"
   ]
  },
  {
   "cell_type": "code",
   "execution_count": 27,
   "metadata": {},
   "outputs": [
    {
     "data": {
      "text/plain": [
       "25.16213247551687"
      ]
     },
     "execution_count": 27,
     "metadata": {},
     "output_type": "execute_result"
    }
   ],
   "source": [
    "#3.Find the sum of the values in s for every Wednesday.\n",
    "s[dti.weekday==2].sum()"
   ]
  },
  {
   "cell_type": "code",
   "execution_count": 28,
   "metadata": {},
   "outputs": [
    {
     "data": {
      "text/plain": [
       "2015-01-31    0.537553\n",
       "2015-02-28    0.443084\n",
       "2015-03-31    0.443928\n",
       "2015-04-30    0.477795\n",
       "2015-05-31    0.468900\n",
       "2015-06-30    0.444308\n",
       "2015-07-31    0.481727\n",
       "2015-08-31    0.410686\n",
       "2015-09-30    0.555077\n",
       "2015-10-31    0.547560\n",
       "2015-11-30    0.496658\n",
       "2015-12-31    0.508338\n",
       "Freq: M, dtype: float64"
      ]
     },
     "execution_count": 28,
     "metadata": {},
     "output_type": "execute_result"
    }
   ],
   "source": [
    "#4.Average for each Calendar Month\n",
    "s.resample('M').mean()"
   ]
  },
  {
   "cell_type": "code",
   "execution_count": 29,
   "metadata": {},
   "outputs": [
    {
     "name": "stderr",
     "output_type": "stream",
     "text": [
      "C:\\Users\\karnati\\AppData\\Local\\Continuum\\anaconda3\\lib\\site-packages\\ipykernel_launcher.py:2: FutureWarning: pd.TimeGrouper is deprecated and will be removed; Please use pd.Grouper(freq=...)\n",
      "  \n"
     ]
    },
    {
     "data": {
      "text/plain": [
       "2015-01-31    0.989346\n",
       "2015-05-31    0.971633\n",
       "2015-09-30    0.979440\n",
       "2016-01-31    0.997008\n",
       "dtype: float64"
      ]
     },
     "execution_count": 29,
     "metadata": {},
     "output_type": "execute_result"
    }
   ],
   "source": [
    "#5.For each group of four consecutive calendar months in s, find the date on which the highest value occurred.\n",
    "s.groupby(pd.TimeGrouper('4M')).max()"
   ]
  }
 ],
 "metadata": {
  "kernelspec": {
   "display_name": "Python 3",
   "language": "python",
   "name": "python3"
  },
  "language_info": {
   "codemirror_mode": {
    "name": "ipython",
    "version": 3
   },
   "file_extension": ".py",
   "mimetype": "text/x-python",
   "name": "python",
   "nbconvert_exporter": "python",
   "pygments_lexer": "ipython3",
   "version": "3.6.5"
  }
 },
 "nbformat": 4,
 "nbformat_minor": 2
}
